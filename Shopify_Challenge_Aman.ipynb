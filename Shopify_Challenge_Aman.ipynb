{
  "nbformat": 4,
  "nbformat_minor": 0,
  "metadata": {
    "colab": {
      "name": "Shopify Challenge Aman.ipynb",
      "provenance": [],
      "toc_visible": true
    },
    "kernelspec": {
      "name": "python3",
      "display_name": "Python 3"
    },
    "language_info": {
      "name": "python"
    }
  },
  "cells": [
    {
      "cell_type": "markdown",
      "metadata": {
        "id": "Sg86nHWpV2Cj"
      },
      "source": [
        "**Shopify 2021 Fall Challenge** \n",
        "\n",
        "Aman Singh\n",
        "\n",
        "\n",
        "\n",
        "\n"
      ]
    },
    {
      "cell_type": "markdown",
      "metadata": {
        "id": "1FmZIL7aXlYq"
      },
      "source": [
        "# Question 1"
      ]
    },
    {
      "cell_type": "markdown",
      "metadata": {
        "id": "Hh-8YJj7WVvs"
      },
      "source": [
        "**A) Think about what could be going wrong with our calculation. Think about a better way to evaluate this data. **\n",
        "\n",
        "Taking an initial look at the data, the reason why the AOV is abnormally high is due to outliers, mainly due to the fact that the majority of orders were under $\\$1000$ ,   but we have some over $ \\$ 100k$ and some over $\\$700k$, which are extreme outliers. Since the AOV is essentially the mean of order values, it is suspectiable to outliers which is what has occurred here. We take a deeper look into the data using pandas.\n"
      ]
    },
    {
      "cell_type": "code",
      "metadata": {
        "id": "ja9YJh8BXhE4",
        "colab": {
          "base_uri": "https://localhost:8080/",
          "height": 204
        },
        "outputId": "49ac158a-8247-4a73-9313-ad89866cee78"
      },
      "source": [
        "#imports\n",
        "import numpy as np \n",
        "import pandas as pd \n",
        "\n",
        "#import dataset\n",
        "df = pd.read_csv(\"/data/DataSet.csv\")\n",
        "df.head() # get a view of what the frame looks like"
      ],
      "execution_count": null,
      "outputs": [
        {
          "output_type": "execute_result",
          "data": {
            "text/html": [
              "<div>\n",
              "<style scoped>\n",
              "    .dataframe tbody tr th:only-of-type {\n",
              "        vertical-align: middle;\n",
              "    }\n",
              "\n",
              "    .dataframe tbody tr th {\n",
              "        vertical-align: top;\n",
              "    }\n",
              "\n",
              "    .dataframe thead th {\n",
              "        text-align: right;\n",
              "    }\n",
              "</style>\n",
              "<table border=\"1\" class=\"dataframe\">\n",
              "  <thead>\n",
              "    <tr style=\"text-align: right;\">\n",
              "      <th></th>\n",
              "      <th>order_id</th>\n",
              "      <th>shop_id</th>\n",
              "      <th>user_id</th>\n",
              "      <th>order_amount</th>\n",
              "      <th>total_items</th>\n",
              "      <th>payment_method</th>\n",
              "      <th>created_at</th>\n",
              "    </tr>\n",
              "  </thead>\n",
              "  <tbody>\n",
              "    <tr>\n",
              "      <th>0</th>\n",
              "      <td>1</td>\n",
              "      <td>53</td>\n",
              "      <td>746</td>\n",
              "      <td>224</td>\n",
              "      <td>2</td>\n",
              "      <td>cash</td>\n",
              "      <td>2017-03-13 12:36:56</td>\n",
              "    </tr>\n",
              "    <tr>\n",
              "      <th>1</th>\n",
              "      <td>2</td>\n",
              "      <td>92</td>\n",
              "      <td>925</td>\n",
              "      <td>90</td>\n",
              "      <td>1</td>\n",
              "      <td>cash</td>\n",
              "      <td>2017-03-03 17:38:52</td>\n",
              "    </tr>\n",
              "    <tr>\n",
              "      <th>2</th>\n",
              "      <td>3</td>\n",
              "      <td>44</td>\n",
              "      <td>861</td>\n",
              "      <td>144</td>\n",
              "      <td>1</td>\n",
              "      <td>cash</td>\n",
              "      <td>2017-03-14 4:23:56</td>\n",
              "    </tr>\n",
              "    <tr>\n",
              "      <th>3</th>\n",
              "      <td>4</td>\n",
              "      <td>18</td>\n",
              "      <td>935</td>\n",
              "      <td>156</td>\n",
              "      <td>1</td>\n",
              "      <td>credit_card</td>\n",
              "      <td>2017-03-26 12:43:37</td>\n",
              "    </tr>\n",
              "    <tr>\n",
              "      <th>4</th>\n",
              "      <td>5</td>\n",
              "      <td>18</td>\n",
              "      <td>883</td>\n",
              "      <td>156</td>\n",
              "      <td>1</td>\n",
              "      <td>credit_card</td>\n",
              "      <td>2017-03-01 4:35:11</td>\n",
              "    </tr>\n",
              "  </tbody>\n",
              "</table>\n",
              "</div>"
            ],
            "text/plain": [
              "   order_id  shop_id  user_id  ...  total_items  payment_method           created_at\n",
              "0         1       53      746  ...            2            cash  2017-03-13 12:36:56\n",
              "1         2       92      925  ...            1            cash  2017-03-03 17:38:52\n",
              "2         3       44      861  ...            1            cash   2017-03-14 4:23:56\n",
              "3         4       18      935  ...            1     credit_card  2017-03-26 12:43:37\n",
              "4         5       18      883  ...            1     credit_card   2017-03-01 4:35:11\n",
              "\n",
              "[5 rows x 7 columns]"
            ]
          },
          "metadata": {
            "tags": []
          },
          "execution_count": 15
        }
      ]
    },
    {
      "cell_type": "code",
      "metadata": {
        "colab": {
          "base_uri": "https://localhost:8080/"
        },
        "id": "sg9MN8svaRsA",
        "outputId": "3b0b0935-07f1-41f6-9b24-5206ec683610"
      },
      "source": [
        "# brief summary of the orders\n",
        "df.order_amount.describe()"
      ],
      "execution_count": null,
      "outputs": [
        {
          "output_type": "execute_result",
          "data": {
            "text/plain": [
              "count      5000.000000\n",
              "mean       3145.128000\n",
              "std       41282.539349\n",
              "min          90.000000\n",
              "25%         163.000000\n",
              "50%         284.000000\n",
              "75%         390.000000\n",
              "max      704000.000000\n",
              "Name: order_amount, dtype: float64"
            ]
          },
          "metadata": {
            "tags": []
          },
          "execution_count": 5
        }
      ]
    },
    {
      "cell_type": "code",
      "metadata": {
        "colab": {
          "base_uri": "https://localhost:8080/",
          "height": 283
        },
        "id": "8INgfs1Mch7P",
        "outputId": "7abccb13-19d3-4522-be98-cdfa4c265af7"
      },
      "source": [
        "df.boxplot(column='order_amount')"
      ],
      "execution_count": null,
      "outputs": [
        {
          "output_type": "execute_result",
          "data": {
            "text/plain": [
              "<matplotlib.axes._subplots.AxesSubplot at 0x7fdaea2c7610>"
            ]
          },
          "metadata": {
            "tags": []
          },
          "execution_count": 6
        },
        {
          "output_type": "display_data",
          "data": {
            "image/png": "[encoded data removed]",
            "text/plain": [
              "<Figure size 432x288 with 1 Axes>"
            ]
          },
          "metadata": {
            "tags": [],
            "needs_background": "light"
          }
        }
      ]
    },
    {
      "cell_type": "code",
      "metadata": {
        "colab": {
          "base_uri": "https://localhost:8080/",
          "height": 297
        },
        "id": "nZU02TMKWL0P",
        "outputId": "ada6ff93-f382-41b9-8233-a1352b484c0b"
      },
      "source": [
        "df.plot.scatter(x='total_items', y='order_amount')"
      ],
      "execution_count": null,
      "outputs": [
        {
          "output_type": "execute_result",
          "data": {
            "text/plain": [
              "<matplotlib.axes._subplots.AxesSubplot at 0x7fdadee62e10>"
            ]
          },
          "metadata": {
            "tags": []
          },
          "execution_count": 16
        },
        {
          "output_type": "display_data",
          "data": {
            "image/png": "[encoded data removed]",
            "text/plain": [
              "<Figure size 432x288 with 1 Axes>"
            ]
          },
          "metadata": {
            "tags": [],
            "needs_background": "light"
          }
        }
      ]
    },
    {
      "cell_type": "markdown",
      "metadata": {
        "id": "yH37viSSadAL"
      },
      "source": [
        "Some important things to note. The mean is 3145.128 which is exactly our AOV value, confirming it is the mean. We also note that we confirm the outliers have a huge impact, as we note that 75% of orders are below $390, which suggests most orders aren't even close to our AOV value. We also note thte standard deviation is 41282.539349, which is a very very large value, which indicates many of the data points are far away from the mean are not clustered near the AOV. Using the boxplot, we see that the majority of data is clustered towards the 100-1000 range. It is hard to see the rest of the data from this graph, so we will remove outliers temporarily as we suspect these large orders (which occur consistently) are from other stores or supplier orders. The scatter plot shows us that theses extreme orders are also ordering two thousand shoes while the majority of orders are not on the same order of magnitude."
      ]
    },
    {
      "cell_type": "code",
      "metadata": {
        "id": "uM3vW7kHOgme"
      },
      "source": [
        "# We can do a common technique for removing outliers, which is using the range of [Q1 - 1.5 IQR, Q3 1.5 IQR]\n",
        "Q1 = df.order_amount.quantile(q=0.25)\n",
        "Q3 = df.order_amount.quantile(q=0.75) \n",
        "IQR = Q3 - Q1\n",
        "\n",
        "df_no_outliers = df[( (df.order_amount >= (Q1 - 1.5 * IQR)) & (df.order_amount <= (Q3 + 1.5 * IQR)))]\n"
      ],
      "execution_count": null,
      "outputs": []
    },
    {
      "cell_type": "code",
      "metadata": {
        "colab": {
          "base_uri": "https://localhost:8080/"
        },
        "id": "_ZbnFFGST-Fo",
        "outputId": "e06d25a4-b65d-4739-f600-d46b2e2207b4"
      },
      "source": [
        "# brief summary of the outliers removed data\n",
        "df_no_outliers = df[( (df.order_amount >= (Q1 - 1.5 * IQR)) & (df.order_amount <= (Q3 + 1.5 * IQR)))]\n",
        "df_no_outliers.order_amount.describe()"
      ],
      "execution_count": null,
      "outputs": [
        {
          "output_type": "execute_result",
          "data": {
            "text/plain": [
              "count    4859.000000\n",
              "mean      293.715374\n",
              "std       144.453395\n",
              "min        90.000000\n",
              "25%       162.000000\n",
              "50%       280.000000\n",
              "75%       380.000000\n",
              "max       730.000000\n",
              "Name: order_amount, dtype: float64"
            ]
          },
          "metadata": {
            "tags": []
          },
          "execution_count": 13
        }
      ]
    },
    {
      "cell_type": "code",
      "metadata": {
        "colab": {
          "base_uri": "https://localhost:8080/",
          "height": 283
        },
        "id": "vMcvM8kyUKkm",
        "outputId": "d980d65f-02c6-41fe-cc18-6566d8f7788c"
      },
      "source": [
        "df_no_outliers.boxplot(column='order_amount')"
      ],
      "execution_count": null,
      "outputs": [
        {
          "output_type": "execute_result",
          "data": {
            "text/plain": [
              "<matplotlib.axes._subplots.AxesSubplot at 0x7fdadee1bed0>"
            ]
          },
          "metadata": {
            "tags": []
          },
          "execution_count": 14
        },
        {
          "output_type": "display_data",
          "data": {
            "image/png": "[encoded data removed]",
            "text/plain": [
              "<Figure size 432x288 with 1 Axes>"
            ]
          },
          "metadata": {
            "tags": [],
            "needs_background": "light"
          }
        }
      ]
    },
    {
      "cell_type": "markdown",
      "metadata": {
        "id": "NGWiVnqVUQkR"
      },
      "source": [
        "Now we note looking at the outliers removed data, the AOV is $293.715374, which is significantly less than our AOV for the entire dataset, which meant our outliers indeed had a significant impact. We also note, that half of these outlier removed data points are between 162 and 380 dollars, which is a narrower IQR than the overall dataset.  The standard deviation also decreased significantly, indicating these data points are closer to the mean, although we note that isi still some values away, closer to the 700-730 dollar range. "
      ]
    },
    {
      "cell_type": "markdown",
      "metadata": {
        "id": "vdsurPX6U8-L"
      },
      "source": [
        "So the question arises, what is a better way to evaluate this data? There are a few options. First, is to consider the AOV of the data without outliers, which will remove all abnormally large datapoints, which will give a more informative answer, but this means we exclude the huge orders. Another possible way is to track supplier / store orders differently from individually consumers, and keep track of 2 AOV's, as we may be interested in knowing the average order for consumers and suppliers. Another option, is to use the median since it is not effeected by outliers and we can get of the middle average value of an order. When conducting this analysis, it is important to look at our results and question if they make sense, and if not, look at our process as well as explore the data further, to find statistics and metrics that better match the business use case, in addition to using more robust statistics and methods."
      ]
    },
    {
      "cell_type": "markdown",
      "metadata": {
        "id": "-LaA-E_kX9pn"
      },
      "source": [
        "**B) What metric would you report for this dataset?**\n",
        "\n",
        "I would report the median order value because it is more robust and thus not suspectiable to being influenced due to outlier orders (in this case, very very large orders which do not represent the typical consumers of our store)."
      ]
    },
    {
      "cell_type": "markdown",
      "metadata": {
        "id": "WXlEdL4wZIRN"
      },
      "source": [
        "**C) What is its value?** \n"
      ]
    },
    {
      "cell_type": "code",
      "metadata": {
        "colab": {
          "base_uri": "https://localhost:8080/"
        },
        "id": "iMixyZQ_ZQ3j",
        "outputId": "b8f1dcfd-6bc0-4d06-edf2-571fc3c88013"
      },
      "source": [
        "df.order_amount.median()"
      ],
      "execution_count": null,
      "outputs": [
        {
          "output_type": "execute_result",
          "data": {
            "text/plain": [
              "284.0"
            ]
          },
          "metadata": {
            "tags": []
          },
          "execution_count": 18
        }
      ]
    },
    {
      "cell_type": "markdown",
      "metadata": {
        "id": "hHp_0RKcZve8"
      },
      "source": [
        "The median order value is 284."
      ]
    },
    {
      "cell_type": "markdown",
      "metadata": {
        "id": "4XYGScg2XpKx"
      },
      "source": [
        "# Question 2"
      ]
    },
    {
      "cell_type": "markdown",
      "metadata": {
        "id": "MoRIbOCMaLxn"
      },
      "source": [
        "**A) How many orders were shipped by Speedy Express in total?**\n",
        "\n"
      ]
    },
    {
      "cell_type": "markdown",
      "metadata": {
        "id": "gweNyoAOaWPu"
      },
      "source": [
        "The orders shipped by Speedy Express is 54. \n",
        "\n",
        "This query counts numbers of ordered shipped by Speedy Express\n",
        "```\n",
        "SELECT COUNT(*)\n",
        "FROM Orders ord JOIN \n",
        "\tShippers ship \n",
        "    ON ship.ShipperId = ord.ShipperId\n",
        "WHERE ship.ShipperName = \"Speedy Express\"\n",
        "```\n",
        "\n"
      ]
    },
    {
      "cell_type": "markdown",
      "metadata": {
        "id": "sKsdwvieaPgt"
      },
      "source": [
        "**B) What is the last name of the employee with the most orders?**"
      ]
    },
    {
      "cell_type": "markdown",
      "metadata": {
        "id": "22cWQv64dYSK"
      },
      "source": [
        "The last name of the employee with the most orders is Peacock \n",
        "```\n",
        "\n",
        "SELECT e.LastName\n",
        "FROM Orders ord JOIN \n",
        "    Employees e \n",
        "    ON e.EmployeeID = ord.EmployeeID\n",
        "GROUP BY e.LastName\n",
        "ORDER BY COUNT(*) DESC\n",
        "LIMIT 1\n",
        "```\n",
        "\n"
      ]
    },
    {
      "cell_type": "markdown",
      "metadata": {
        "id": "Ei8mvBuyaPyd"
      },
      "source": [
        "\n",
        "**C)What product was ordered the most by customers in Germany?**"
      ]
    },
    {
      "cell_type": "markdown",
      "metadata": {
        "id": "Wt0mA0BoiRxJ"
      },
      "source": [
        "The most ordered product by German customers is Boston Crab Meat.\n",
        "```\n",
        "SELECT p.ProductName\n",
        "FROM ORDERS ord JOIN \n",
        "    Customers c\n",
        "    JOIN\n",
        "    Products p JOIN\n",
        "    OrderDetails od\n",
        " WHERE c.country = \"Germany\" AND ord.OrderID = od.OrderID AND od.ProductID = p.ProductID AND c.CustomerID = ord.CustomerID\n",
        " GROUP BY p.ProductID\n",
        " ORDER BY SUM(Quantity) DESC\n",
        " LIMIT 1\n",
        "```\n",
        "\n"
      ]
    }
  ]
}